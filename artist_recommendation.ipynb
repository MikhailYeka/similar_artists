{
 "cells": [
  {
   "cell_type": "markdown",
   "metadata": {},
   "source": [
    "# Предобработка файла"
   ]
  },
  {
   "cell_type": "markdown",
   "metadata": {},
   "source": [
    "Файлы, представленные в задании, слишком большие, и их не получится прочитать сразу и записать в оперативную память. Поэтому будем читать файл session построчно, считывать оттуда песни для каждой сессии прослушивания, потом находить исполнителя этой песни, и уже в новый файл session_preprocessed записывать сессии с авторами. "
   ]
  },
  {
   "cell_type": "code",
   "execution_count": 27,
   "metadata": {},
   "outputs": [],
   "source": [
    "from pathlib import Path\n",
    "file_sessions = Path('ThirtyMusic/relations/sessions.idomaar')\n",
    "file_tracks = Path('ThirtyMusic/entities/tracks.idomaar')\n",
    "file_persons = Path('ThirtyMusic/entities/persons.idomaar')\n",
    "new_file_sessions = Path('ThirtyMusic/sessions_persons.idomaar')"
   ]
  },
  {
   "cell_type": "code",
   "execution_count": 2,
   "metadata": {},
   "outputs": [],
   "source": [
    "import csv, json, sys"
   ]
  },
  {
   "cell_type": "code",
   "execution_count": 3,
   "metadata": {},
   "outputs": [],
   "source": [
    "from typing import List\n",
    "def find_person_id(track_id: int, tracks_data: List[List[str]]) -> int:\n",
    "    '''\n",
    "    Функция для нахождения id исполнителя по id песни. \n",
    "    '''\n",
    "    track_info = tracks_data[track_id][4]\n",
    "    track_info_dict = json.loads(track_info)\n",
    "    person_info = track_info_dict['artists'][0]\n",
    "    return person_info['id']"
   ]
  },
  {
   "cell_type": "code",
   "execution_count": 4,
   "metadata": {},
   "outputs": [],
   "source": [
    "tracks_data = []\n",
    "with open(file_tracks, 'r') as f_tracks:\n",
    "    track_reader = csv.reader(f_tracks, delimiter='\\t')\n",
    "    for track in track_reader:\n",
    "        tracks_data.append(track)"
   ]
  },
  {
   "cell_type": "code",
   "execution_count": 5,
   "metadata": {},
   "outputs": [],
   "source": [
    "# Создаём новый файл с сессиями. \n",
    "with open(new_file_sessions, 'w') as f:\n",
    "    pass"
   ]
  },
  {
   "cell_type": "code",
   "execution_count": 6,
   "metadata": {
    "scrolled": true
   },
   "outputs": [
    {
     "name": "stderr",
     "output_type": "stream",
     "text": [
      "2764474it [18:29, 2491.49it/s]\n"
     ]
    }
   ],
   "source": [
    "csv.field_size_limit(sys.maxsize)\n",
    "from tqdm import tqdm\n",
    "with open(file_sessions, 'r') as f_session:\n",
    "    session_reader = csv.reader(f_session, delimiter='\\t')\n",
    "    for session_line in tqdm(session_reader):\n",
    "        # Извлекаем информацию о песнях из сессии, находим id исполнителей\n",
    "        meta_info, tracks_info = session_line[3].split()\n",
    "        tracks_info_dict = json.loads(tracks_info)\n",
    "        for tracks in tracks_info_dict['objects']:\n",
    "            track_id = tracks.get('id')\n",
    "            person_id = find_person_id(track_id, tracks_data)\n",
    "            tracks['person_id'] = person_id\n",
    "        track_info_new = json.dumps(tracks_info_dict)\n",
    "        session_line_new = session_line.copy()\n",
    "        session_line_new[3] = meta_info + ' ' + track_info_new\n",
    "        with open(new_file_sessions, 'a') as f_new:\n",
    "            session_writer = csv.writer(f_new, delimiter='\\t')\n",
    "            session_writer.writerow(session_line_new)"
   ]
  },
  {
   "cell_type": "markdown",
   "metadata": {},
   "source": [
    "# Разобьём теперь датасет \n",
    "На train, test, valid. Но для начала надо подготовленный датасет переформатировать в виде набора списков исполнителей, каждый из которой соответствует сессии прослушивания. id сессии не особо нужен, поэтому их можно опустить. Таким образом, каждой сессии будет соответствовать строка с id исполнителей, разделённых пробелами. "
   ]
  },
  {
   "cell_type": "code",
   "execution_count": 7,
   "metadata": {},
   "outputs": [
    {
     "name": "stderr",
     "output_type": "stream",
     "text": [
      "2764474it [03:53, 11854.04it/s]\n"
     ]
    }
   ],
   "source": [
    "session_in_persons = []\n",
    "with open(new_file_sessions, 'r') as f_sessions:\n",
    "    session_reader = csv.reader(f_sessions, delimiter='\\t')\n",
    "    for session in tqdm(session_reader):\n",
    "        persons_in_cur_sess = list()\n",
    "        _, session_info = session[3].split(' ', maxsplit=1)\n",
    "        session_info_dict = json.loads(session_info)\n",
    "        for tracks in session_info_dict['objects']:\n",
    "            persons_in_cur_sess.append(str(tracks['id']))\n",
    "        session_in_persons.append(persons_in_cur_sess)"
   ]
  },
  {
   "cell_type": "markdown",
   "metadata": {},
   "source": [
    "Поскольку в дальнейшем будет использоваться gensim, запишем сессии как списки исполнителей. "
   ]
  },
  {
   "cell_type": "code",
   "execution_count": 8,
   "metadata": {},
   "outputs": [
    {
     "data": {
      "text/plain": [
       "2764474"
      ]
     },
     "execution_count": 8,
     "metadata": {},
     "output_type": "execute_result"
    }
   ],
   "source": [
    "len(session_in_persons)"
   ]
  },
  {
   "cell_type": "markdown",
   "metadata": {},
   "source": [
    "Данные об исполнителях в каждой конкретной сессии считаны в список списков, где каждый конкретный \"подсписок\" соответствует определённой сессии прослушивания. \n",
    "Теперь разобьём данные на train, test и valid выборку. \n",
    "Пропорции выборки (в долях от исходного набора данных): train / test / val = 0.8 / 0.15 / 0.05"
   ]
  },
  {
   "cell_type": "code",
   "execution_count": 9,
   "metadata": {},
   "outputs": [],
   "source": [
    "from sklearn.model_selection import train_test_split\n",
    "train_sessions, test_val_sessions = train_test_split(session_in_persons, train_size=0.8)\n",
    "test_sessions, val_sessions = train_test_split(test_val_sessions, train_size=0.75)\n",
    "assert len(test_sessions)+len(val_sessions)+len(train_sessions) == len(session_in_persons)"
   ]
  },
  {
   "cell_type": "code",
   "execution_count": 10,
   "metadata": {},
   "outputs": [],
   "source": [
    "import pickle\n",
    "train_file = Path('train.pickle')\n",
    "test_file = Path('test.pickle')\n",
    "val_file = Path('val.pickle')\n",
    "with open(train_file, 'wb') as f_train:\n",
    "    pickle.dump(train_sessions, f_train)\n",
    "with open(test_file, 'wb') as f_test:\n",
    "    pickle.dump(test_sessions, f_test)\n",
    "with open(val_file, 'wb') as f_val:\n",
    "    pickle.dump(val_sessions, f_val)"
   ]
  },
  {
   "cell_type": "markdown",
   "metadata": {},
   "source": [
    "Загрузка данных"
   ]
  },
  {
   "cell_type": "code",
   "execution_count": 1,
   "metadata": {},
   "outputs": [],
   "source": [
    "import pickle\n",
    "from pathlib import Path\n",
    "\n",
    "train_file = Path('train.pickle')\n",
    "test_file = Path('test.pickle')\n",
    "val_file = Path('val.pickle')\n",
    "\n",
    "with open(train_file, 'rb') as f_train:\n",
    "    train_sessions = pickle.load(f_train)\n",
    "with open(test_file, 'rb') as f_test:\n",
    "    test_sessions = pickle.load(f_test)\n",
    "with open(val_file, 'rb') as f_val:\n",
    "    val_sessions = pickle.load(f_val)"
   ]
  },
  {
   "cell_type": "markdown",
   "metadata": {},
   "source": [
    "# Метрика\n",
    "Задача формулируется как построение векторного пространства исполнителей, чтобы похожие исполнители лежали в нём близко. Смысл близости состоит здесь в том, что в достаточном количестве сессий прослушиваний эти исполнители встречались совместно. \n",
    "Уместно выбрать метрику из следующих соображений. Пространство векторов построено на train датасете таким образом, что исполнители из одной сессии лежат в нём близко. В таком случае на test и val исполнители должны также лежать рядом. \n",
    "\n",
    "Тогда уместно предположить следующую метрику: будем переходить в векторное пространство для каждого токена из train и val датасетов, а потом попарно считать косинусное расстояние между токенами внутри одной сессии. Из полученных чисел будем брать среднее (думаю, здесь подойдёт среднее арифметическое). Если необходимо оценить метрику для набора сессий, будем также брать арифметическое среднее между оценками для каждой конкретной сессии.\n",
    "\n",
    "Наверное, было бы правильнее считать эту метрику для тренировочного набора сессий прослушиваний, а потом для тестового. Таким образом, можно нормировать тестовый набор данных на тренировочный. \n",
    "\n",
    "Upd: Оказалось, что такая метрика работает слишком медленно на целом наборе сессий. Было бы гораздо проще, если брать какую-то долю выборки и по ней оценивать качество. Например, минимальное из 1% выборки и 1000. "
   ]
  },
  {
   "cell_type": "code",
   "execution_count": 2,
   "metadata": {},
   "outputs": [],
   "source": [
    "from typing import Union, List\n",
    "from gensim.models import Word2Vec, TfidfModel\n",
    "import gensim"
   ]
  },
  {
   "cell_type": "code",
   "execution_count": 3,
   "metadata": {},
   "outputs": [],
   "source": [
    "from numpy import dot\n",
    "from numpy.linalg import norm\n",
    "from itertools import combinations\n",
    "from random import choices\n",
    "from tqdm import tqdm\n",
    "\n",
    "def count_metrics(\n",
    "    model: gensim.models.word2vec.Word2Vec,\n",
    "    sessions_list: Union[List[List[str]], List[str]]\n",
    ") -> float:\n",
    "    '''\n",
    "    Функция для оценки работы алгоритма. \n",
    "    '''\n",
    "    cosine_similarities = []\n",
    "    chosen_sessions = [ses for ses in sessions_list if len(ses)>2]\n",
    "    for session in tqdm(choices(chosen_sessions, k=min(1000, int(len(chosen_sessions))+1))):\n",
    "        vectors_in_session, cos_sim_in_ses = [], []\n",
    "        \n",
    "        for person in session:\n",
    "            # В случае, если автора нет в искомых, добавим нулевой вектор.\n",
    "            # Косинус угла нулевого вектора и любого другого равен нулю. \n",
    "            try:\n",
    "                vectors_in_session.append(model.wv[person])\n",
    "            except KeyError:\n",
    "                vectors_in_session.append([0]*model.vector_size)\n",
    "        for (a, b) in combinations(vectors_in_session, 2):\n",
    "            if all(a) == 0 or all(b) == 0:\n",
    "                cos_sim_in_ses.append(0)\n",
    "            else:\n",
    "                cos_sim_in_ses.append(dot(a, b)/(norm(a)*norm(b)))\n",
    "        avg_in_sess = sum(cos_sim_in_ses) / len(cos_sim_in_ses)\n",
    "        cosine_similarities.append(avg_in_sess)\n",
    "    return sum(cosine_similarities) / len(cosine_similarities)"
   ]
  },
  {
   "cell_type": "markdown",
   "metadata": {},
   "source": [
    "# Идея решения\n",
    "Будем рассматривать задачу как задачу обработки естественного языка (NLP). Это естественно: набор данных был сформирован так, что представляет собой строки, состоящие из токенов (id исполнителей), разделённых пробелами. Для такой задачи естественно в качестве baseline использовать tfidf представление, а для более продвинутой - модель word2veс. "
   ]
  },
  {
   "cell_type": "markdown",
   "metadata": {},
   "source": [
    "#  Baseline\n",
    "Теперь придумаем какой-нибудь бейзлайн. В качестве векторного представления в базовой модели предлагается использовать некое подобие TF-IDF. Идея этого действия в том, чтобы выделять исполнителей, характерных для данной сессии прослушивания, и учитывать общепрослушиваемых исполнителей меньше. \n",
    "\n",
    "Метод fit_transform конвертирует набор сессий в матрицу TF-IDF. "
   ]
  },
  {
   "cell_type": "code",
   "execution_count": 4,
   "metadata": {},
   "outputs": [],
   "source": [
    "from sklearn.feature_extraction.text import TfidfVectorizer"
   ]
  },
  {
   "cell_type": "code",
   "execution_count": 5,
   "metadata": {},
   "outputs": [],
   "source": [
    "train_sessions_str = [' '.join(person for person in ses) for ses in train_sessions if len(ses)>=3]\n",
    "test_sessions_str = [' '.join(person for person in ses) for ses in test_sessions if len(ses)>=3]\n",
    "val_sessions_str = [' '.join(person for person in ses) for ses in val_sessions if len(ses)>=3]"
   ]
  },
  {
   "cell_type": "code",
   "execution_count": 6,
   "metadata": {},
   "outputs": [],
   "source": [
    "tfidf_vectorizer = TfidfVectorizer()\n",
    "vectorized = tfidf_vectorizer.fit_transform(train_sessions_str)"
   ]
  },
  {
   "cell_type": "markdown",
   "metadata": {},
   "source": [
    "### Затруднения \n",
    "\n",
    "Выбранную метрику я придумал для word2vec модели. В ней качество оценивалось как скалярное произведение всех авторов, встречающихся в произведении. Предположение о правильности использования такой метрики базируется на предположении, что все песни в одной сессии должны быть похожи друг на друга. Степень похожести авторов определяется скалярным произведением (то есть косинусом угла между векторами): чем он ближе к 1, тем группы более похожи друг на друга. Таким образом, для каждой сессии получается некоторое число, которое характеризует среднюю похожесть исполнителей. \n",
    "\n",
    "Когда мы обучаем word2vec на train выборке, мы получаем это число для выборки, на которой был обучен word2vec. Когда мы прогоняем через функцию метрики тестовую выборку, по отношению указанной метрики на тестовой выборке к метрике на тренировочной выборке можно судить о точности работы word2veс. Это вы увидите ниже.\n",
    "\n",
    "\n",
    "Однако, в случае tfidf не очень понятно, как применить такую метрику."
   ]
  },
  {
   "cell_type": "markdown",
   "metadata": {},
   "source": [
    "### Решение\n",
    "\n",
    "Буду использовать алгоритм кластеризации на tfidf_vectorizer. "
   ]
  },
  {
   "cell_type": "code",
   "execution_count": 8,
   "metadata": {},
   "outputs": [],
   "source": [
    "from scipy.cluster.hierarchy import linkage, fcluster, dendrogram"
   ]
  },
  {
   "cell_type": "code",
   "execution_count": 11,
   "metadata": {},
   "outputs": [
    {
     "ename": "ValueError",
     "evalue": "setting an array element with a sequence.",
     "output_type": "error",
     "traceback": [
      "\u001b[0;31m---------------------------------------------------------------------------\u001b[0m",
      "\u001b[0;31mTypeError\u001b[0m                                 Traceback (most recent call last)",
      "\u001b[0;31mTypeError\u001b[0m: float() argument must be a string or a number, not 'csr_matrix'",
      "\nThe above exception was the direct cause of the following exception:\n",
      "\u001b[0;31mValueError\u001b[0m                                Traceback (most recent call last)",
      "\u001b[0;32m<ipython-input-11-3efc0e07667a>\u001b[0m in \u001b[0;36m<module>\u001b[0;34m\u001b[0m\n\u001b[0;32m----> 1\u001b[0;31m \u001b[0mZ\u001b[0m \u001b[0;34m=\u001b[0m \u001b[0mlinkage\u001b[0m\u001b[0;34m(\u001b[0m\u001b[0mvectorized\u001b[0m\u001b[0;34m,\u001b[0m \u001b[0mmethod\u001b[0m\u001b[0;34m=\u001b[0m\u001b[0;34m'average'\u001b[0m\u001b[0;34m,\u001b[0m \u001b[0mmetric\u001b[0m\u001b[0;34m=\u001b[0m\u001b[0;34m'euclidean'\u001b[0m\u001b[0;34m)\u001b[0m\u001b[0;34m\u001b[0m\u001b[0;34m\u001b[0m\u001b[0m\n\u001b[0m",
      "\u001b[0;32m~/vk/.venv/lib/python3.7/site-packages/scipy/cluster/hierarchy.py\u001b[0m in \u001b[0;36mlinkage\u001b[0;34m(y, method, metric, optimal_ordering)\u001b[0m\n\u001b[1;32m   1040\u001b[0m         \u001b[0;32mraise\u001b[0m \u001b[0mValueError\u001b[0m\u001b[0;34m(\u001b[0m\u001b[0;34m\"Invalid method: {0}\"\u001b[0m\u001b[0;34m.\u001b[0m\u001b[0mformat\u001b[0m\u001b[0;34m(\u001b[0m\u001b[0mmethod\u001b[0m\u001b[0;34m)\u001b[0m\u001b[0;34m)\u001b[0m\u001b[0;34m\u001b[0m\u001b[0;34m\u001b[0m\u001b[0m\n\u001b[1;32m   1041\u001b[0m \u001b[0;34m\u001b[0m\u001b[0m\n\u001b[0;32m-> 1042\u001b[0;31m     \u001b[0my\u001b[0m \u001b[0;34m=\u001b[0m \u001b[0m_convert_to_double\u001b[0m\u001b[0;34m(\u001b[0m\u001b[0mnp\u001b[0m\u001b[0;34m.\u001b[0m\u001b[0masarray\u001b[0m\u001b[0;34m(\u001b[0m\u001b[0my\u001b[0m\u001b[0;34m,\u001b[0m \u001b[0morder\u001b[0m\u001b[0;34m=\u001b[0m\u001b[0;34m'c'\u001b[0m\u001b[0;34m)\u001b[0m\u001b[0;34m)\u001b[0m\u001b[0;34m\u001b[0m\u001b[0;34m\u001b[0m\u001b[0m\n\u001b[0m\u001b[1;32m   1043\u001b[0m \u001b[0;34m\u001b[0m\u001b[0m\n\u001b[1;32m   1044\u001b[0m     \u001b[0;32mif\u001b[0m \u001b[0my\u001b[0m\u001b[0;34m.\u001b[0m\u001b[0mndim\u001b[0m \u001b[0;34m==\u001b[0m \u001b[0;36m1\u001b[0m\u001b[0;34m:\u001b[0m\u001b[0;34m\u001b[0m\u001b[0;34m\u001b[0m\u001b[0m\n",
      "\u001b[0;32m~/vk/.venv/lib/python3.7/site-packages/scipy/cluster/hierarchy.py\u001b[0m in \u001b[0;36m_convert_to_double\u001b[0;34m(X)\u001b[0m\n\u001b[1;32m   1562\u001b[0m \u001b[0;32mdef\u001b[0m \u001b[0m_convert_to_double\u001b[0m\u001b[0;34m(\u001b[0m\u001b[0mX\u001b[0m\u001b[0;34m)\u001b[0m\u001b[0;34m:\u001b[0m\u001b[0;34m\u001b[0m\u001b[0;34m\u001b[0m\u001b[0m\n\u001b[1;32m   1563\u001b[0m     \u001b[0;32mif\u001b[0m \u001b[0mX\u001b[0m\u001b[0;34m.\u001b[0m\u001b[0mdtype\u001b[0m \u001b[0;34m!=\u001b[0m \u001b[0mnp\u001b[0m\u001b[0;34m.\u001b[0m\u001b[0mdouble\u001b[0m\u001b[0;34m:\u001b[0m\u001b[0;34m\u001b[0m\u001b[0;34m\u001b[0m\u001b[0m\n\u001b[0;32m-> 1564\u001b[0;31m         \u001b[0mX\u001b[0m \u001b[0;34m=\u001b[0m \u001b[0mX\u001b[0m\u001b[0;34m.\u001b[0m\u001b[0mastype\u001b[0m\u001b[0;34m(\u001b[0m\u001b[0mnp\u001b[0m\u001b[0;34m.\u001b[0m\u001b[0mdouble\u001b[0m\u001b[0;34m)\u001b[0m\u001b[0;34m\u001b[0m\u001b[0;34m\u001b[0m\u001b[0m\n\u001b[0m\u001b[1;32m   1565\u001b[0m     \u001b[0;32mif\u001b[0m \u001b[0;32mnot\u001b[0m \u001b[0mX\u001b[0m\u001b[0;34m.\u001b[0m\u001b[0mflags\u001b[0m\u001b[0;34m.\u001b[0m\u001b[0mcontiguous\u001b[0m\u001b[0;34m:\u001b[0m\u001b[0;34m\u001b[0m\u001b[0;34m\u001b[0m\u001b[0m\n\u001b[1;32m   1566\u001b[0m         \u001b[0mX\u001b[0m \u001b[0;34m=\u001b[0m \u001b[0mX\u001b[0m\u001b[0;34m.\u001b[0m\u001b[0mcopy\u001b[0m\u001b[0;34m(\u001b[0m\u001b[0;34m)\u001b[0m\u001b[0;34m\u001b[0m\u001b[0;34m\u001b[0m\u001b[0m\n",
      "\u001b[0;31mValueError\u001b[0m: setting an array element with a sequence."
     ]
    }
   ],
   "source": [
    "Z = linkage(vectorized, method='average', metric='euclidean')"
   ]
  },
  {
   "cell_type": "code",
   "execution_count": null,
   "metadata": {},
   "outputs": [],
   "source": [
    "test_vectorized = tfidf_vectorizer.transform(test_sessions_str)\n",
    "brc.predict(test_vectorized)"
   ]
  },
  {
   "cell_type": "code",
   "execution_count": null,
   "metadata": {},
   "outputs": [],
   "source": []
  },
  {
   "cell_type": "markdown",
   "metadata": {},
   "source": [
    "# Более продвинутая модель \n",
    "Будем использовать word2vec, основываясь на библиотеке gensim. "
   ]
  },
  {
   "cell_type": "code",
   "execution_count": 4,
   "metadata": {},
   "outputs": [],
   "source": [
    "from gensim.models import Word2Vec\n",
    "from gensim.downloader import tempfile"
   ]
  },
  {
   "cell_type": "markdown",
   "metadata": {},
   "source": [
    "Реализация Word2Vec в библиотеке gensim имеет несколько параметров, которые можно подбирать, и благодаря можно увеличить качество (т.е. метрику, о которой говорилось выше). \n",
    "#Параметр min_count отвечает за минимальное количество токенов, с которых сессия будет учитываться в построении модели.\n",
    "#window отвечает за максимальное расстояние между целевым словом и словами вокруг него. \n",
    "#sg отвечает за выбор обучающего алгоритма: в случае =0 это CBOW; =1 это skig gram. CBOW предсказывает текущего исполнителя, исходя из окружающего его контекста. SG действует наоборот: использует текущего исполнителя, чтобы предсказать окружащих.\n",
    "#size отвечает за размерность векторов представления исполнителей. "
   ]
  },
  {
   "cell_type": "markdown",
   "metadata": {},
   "source": [
    "##   Подбор гиперпараметров \n",
    "Теперь необходимо подумать, в каких пределах искать гиперпараметры (если тупо гонять по всему доступному диапазону, двух недель не хватит). \n",
    "Известно, что Word2Vec обычно берут для size=300 (то есть пространство 300-мерное). При этом размер словаря составляет порядка 10\\**8 - 10\\**9 слов (смотрите статические корпусы датасеты слов на сайте https://rusvectores.org/ru/models/).\n",
    "В нашем случае, согласно прилагаемому описанию датасета, артистов 600К (то есть порядка 10\\**5). Можно предположить, что для количества векторов, меньшего на 3 порядка, можно также уменьшить размерность пространства по крайней мере в 2 раза. К сожалению, я думал, что найду в интернете совет, насколько примерно необходимо уменьшить размерность векторов при уменьшении количества векторов. \n",
    "\n",
    "Буду брать size равным 20, 50, 100, 300. "
   ]
  },
  {
   "cell_type": "markdown",
   "metadata": {},
   "source": [
    "### Вычислим средние показатели прослушиваний\n",
    "Для подбора гиперпараметров посмотрим на показатели прослушивания: каковы средняя длина сессии. \n",
    "\n",
    "Моя исходная гипотеза такая: Можно не учитывать сессии, в которых пользователь слушал меньше 7 песен. Это позволит быстрее обучать модель, отбрасывая слишком короткие сессии.  Соответственно, положим параметр min_count=7. Также window стоит положить равным 7. Это позволит быстрее обучать модель, отбрасывая слишком короткие сессии. "
   ]
  },
  {
   "cell_type": "code",
   "execution_count": 39,
   "metadata": {},
   "outputs": [],
   "source": [
    "import numpy as np\n",
    "train_len = np.array([len(session) for session in train_sessions])\n",
    "test_len = np.array([len(session) for session in test_sessions])\n",
    "val_len = np.array([len(session) for session in val_sessions])"
   ]
  },
  {
   "cell_type": "code",
   "execution_count": 103,
   "metadata": {
    "scrolled": true
   },
   "outputs": [
    {
     "name": "stdout",
     "output_type": "stream",
     "text": [
      "1 4914 11.338 20.753 6.0 3.0 26.0 2.0 13.0\n",
      "1 4087 11.341 21.557 6.0 3.0 26.0 2.0 13.0\n",
      "1 1136 11.394 20.525 6.0 3.0 26.0 2.0 13.0\n"
     ]
    }
   ],
   "source": [
    "print(np.min(train_len), np.max(train_len), \n",
    "      '{:.3f}'.format(np.mean(train_len)), '{:.3f}'.format(np.std(train_len)),\n",
    "      np.median(train_len), np.percentile(train_len, 30), np.percentile(train_len, 90),\n",
    "      np.percentile(train_len, 20), np.percentile(train_len, 75))\n",
    "print(np.min(test_len), np.max(test_len), \n",
    "      '{:.3f}'.format(np.mean(test_len)), '{:.3f}'.format(np.std(test_len)),\n",
    "      np.median(test_len), np.percentile(test_len, 30), np.percentile(test_len, 90), \n",
    "      np.percentile(test_len, 20), np.percentile(test_len, 75))\n",
    "print(np.min(val_len), np.max(val_len), \n",
    "      '{:.3f}'.format(np.mean(val_len)), '{:.3f}'.format(np.std(val_len)),\n",
    "      np.median(val_len), np.percentile(val_len, 30), np.percentile(val_len, 90),       \n",
    "      np.percentile(val_len, 20), np.percentile(val_len, 75))"
   ]
  },
  {
   "cell_type": "markdown",
   "metadata": {},
   "source": [
    "Выше мы построили разные статистические распределения длины сессии. Во-первых, видно, что train, test, val примерно одинаковы и значительно не отличаются друг от друга. Это означает, что разбиение вполне хорошее, и полученные данные могут быть использованы для оценки. \n",
    "\n",
    "С другой стороны, по procentile для разных q видно, что значительная часть сессий имеет короткую длину, а медианная длина составляет всего 6 песен. 75% всех сессий имеет длину, меньшую 13 песен. Вполне разумным кажется придумать разные модели для коротких и для длинных прослушиваний."
   ]
  },
  {
   "cell_type": "markdown",
   "metadata": {},
   "source": [
    "Построим гистограмму распределения длин сессий прослушивания. "
   ]
  },
  {
   "cell_type": "code",
   "execution_count": 106,
   "metadata": {},
   "outputs": [],
   "source": [
    "%matplotlib inline\n",
    "import matplotlib.pyplot as plt"
   ]
  },
  {
   "cell_type": "code",
   "execution_count": 145,
   "metadata": {
    "scrolled": true
   },
   "outputs": [
    {
     "data": {
      "text/plain": [
       "<a list of 30 Patch objects>"
      ]
     },
     "execution_count": 145,
     "metadata": {},
     "output_type": "execute_result"
    },
    {
     "data": {
      "image/png": "[encoded data removed]",
      "text/plain": [
       "<Figure size 432x288 with 1 Axes>"
      ]
     },
     "metadata": {
      "needs_background": "light"
     },
     "output_type": "display_data"
    }
   ],
   "source": [
    "plt.hist(train_len, range=(0, 30), bins=30)[2]"
   ]
  },
  {
   "cell_type": "markdown",
   "metadata": {},
   "source": [
    "По гистограмме видно, что значительная часть сессий прослушивания (согласно процентилю, около 30%) содержат 3 песни и менее. Я буду полагать, что по таким прослушиваниям нельзя корректно судить о близости разных артистов друг другу. \n",
    "#### Таким образом, можно выкинуть все сессии прослушивания короче 3 песен. "
   ]
  },
  {
   "cell_type": "markdown",
   "metadata": {},
   "source": [
    "Посмотрим теперь, есть ли среди сессий прослушивания ситуации, когда прослушивается только один артист. Если таких сессий много, их тоже можно выкинуть. "
   ]
  },
  {
   "cell_type": "code",
   "execution_count": 148,
   "metadata": {},
   "outputs": [
    {
     "data": {
      "text/plain": [
       "28376"
      ]
     },
     "execution_count": 148,
     "metadata": {},
     "output_type": "execute_result"
    }
   ],
   "source": [
    "same_persons_session, same_persons_session_count = [], []\n",
    "\n",
    "for session in train_sessions:\n",
    "    if all([session[0]==session[i] for i in range(len(session))]) and len(session) >= 3:\n",
    "        same_persons_session.append(session[0])\n",
    "        same_persons_session_count.append(len(session))\n",
    "\n",
    "len(same_persons_session)"
   ]
  },
  {
   "cell_type": "code",
   "execution_count": 149,
   "metadata": {
    "scrolled": false
   },
   "outputs": [
    {
     "data": {
      "text/plain": [
       "<a list of 30 Patch objects>"
      ]
     },
     "execution_count": 149,
     "metadata": {},
     "output_type": "execute_result"
    },
    {
     "data": {
      "image/png": "[encoded data removed]",
      "text/plain": [
       "<Figure size 432x288 with 1 Axes>"
      ]
     },
     "metadata": {
      "needs_background": "light"
     },
     "output_type": "display_data"
    }
   ],
   "source": [
    "plt.hist(same_persons_session_count, range=(1, 30,), bins=30)[2]"
   ]
  },
  {
   "cell_type": "markdown",
   "metadata": {},
   "source": [
    "#### Видно, что сессий с одинаковыми прослушиваниями значительно меньше общего числа сессий.\n",
    "Такие сессии можно оставить, ничего с ними не делая."
   ]
  },
  {
   "cell_type": "code",
   "execution_count": 175,
   "metadata": {},
   "outputs": [],
   "source": [
    "from collections import Counter\n",
    "\n",
    "train_sess_counter = Counter(train_len)\n",
    "same_per_sess_counter = Counter(same_persons_session_count)\n",
    "train_same_len_ratio, lengths = [], []\n",
    "\n",
    "for length in sorted(same_per_sess_counter.keys()):\n",
    "    lengths.append(length)\n",
    "    train_same_len_ratio.append(same_per_sess_counter[length] / train_sess_counter[length])"
   ]
  },
  {
   "cell_type": "code",
   "execution_count": 178,
   "metadata": {
    "scrolled": true
   },
   "outputs": [
    {
     "data": {
      "image/png": "[encoded data removed]",
      "text/plain": [
       "<Figure size 432x288 with 1 Axes>"
      ]
     },
     "metadata": {
      "needs_background": "light"
     },
     "output_type": "display_data"
    }
   ],
   "source": [
    "plt.plot(lengths, train_same_len_ratio)\n",
    "plt.title = 'Зависимость доли прослушиваний одного исполнителя от длины сессии'"
   ]
  },
  {
   "cell_type": "markdown",
   "metadata": {},
   "source": [
    "Здесь я посчитал долю сессий прослушиваний одного исполнителя для каждой длины сессии. Видно, что для больших длин прослушивания достаточная доля сессий характеризуется прослушиванием песен одного и того же исполнителя. Конечно, здесь есть эффект того, что для больших длин слишком мало сессий, и его тоже надо иметь в виду.  "
   ]
  },
  {
   "cell_type": "markdown",
   "metadata": {},
   "source": [
    "## Обучим теперь модель (далее параметр size)"
   ]
  },
  {
   "cell_type": "markdown",
   "metadata": {},
   "source": [
    "# 100"
   ]
  },
  {
   "cell_type": "code",
   "execution_count": 179,
   "metadata": {
    "scrolled": false
   },
   "outputs": [
    {
     "data": {
      "text/plain": [
       "\"\\nwith tempfile.NamedTemporaryFile(prefix='gensim-model-', delete=False) as tmp:\\n    temporary_filepath = tmp.name\\n    model_100.save(temporary_filepath)\""
      ]
     },
     "execution_count": 179,
     "metadata": {},
     "output_type": "execute_result"
    }
   ],
   "source": [
    "model_100 = Word2Vec(train_sessions, size=100, window=7, min_count=3)\n",
    "'''\n",
    "with tempfile.NamedTemporaryFile(prefix='gensim-model-', delete=False) as tmp:\n",
    "    temporary_filepath = tmp.name\n",
    "    model_100.save(temporary_filepath)'''"
   ]
  },
  {
   "cell_type": "code",
   "execution_count": 310,
   "metadata": {
    "scrolled": true
   },
   "outputs": [
    {
     "name": "stderr",
     "output_type": "stream",
     "text": [
      "100%|██████████| 1000/1000 [00:11<00:00, 85.45it/s]\n"
     ]
    }
   ],
   "source": [
    "train_metrics = count_metrics(model=model_100, sessions_list=train_sessions)"
   ]
  },
  {
   "cell_type": "code",
   "execution_count": 311,
   "metadata": {},
   "outputs": [
    {
     "name": "stderr",
     "output_type": "stream",
     "text": [
      "100%|██████████| 1000/1000 [00:09<00:00, 104.60it/s]\n"
     ]
    }
   ],
   "source": [
    "test_metrics = count_metrics(model=model_100, sessions_list=test_sessions)"
   ]
  },
  {
   "cell_type": "code",
   "execution_count": 313,
   "metadata": {
    "scrolled": false
   },
   "outputs": [
    {
     "data": {
      "text/plain": [
       "0.9204522186136024"
      ]
     },
     "execution_count": 313,
     "metadata": {},
     "output_type": "execute_result"
    }
   ],
   "source": [
    "test_metrics / train_metrics"
   ]
  },
  {
   "cell_type": "markdown",
   "metadata": {},
   "source": [
    "# 20"
   ]
  },
  {
   "cell_type": "code",
   "execution_count": 314,
   "metadata": {
    "scrolled": true
   },
   "outputs": [],
   "source": [
    "model_20 = Word2Vec(train_sessions, size=20, window=7, min_count=3)\n",
    "\n",
    "with tempfile.NamedTemporaryFile(prefix='gensim-model-', delete=False) as tmp:\n",
    "    temporary_filepath = tmp.name\n",
    "    model_20.save(temporary_filepath)"
   ]
  },
  {
   "cell_type": "code",
   "execution_count": 315,
   "metadata": {
    "scrolled": true
   },
   "outputs": [
    {
     "name": "stderr",
     "output_type": "stream",
     "text": [
      "100%|██████████| 1000/1000 [00:07<00:00, 125.83it/s]\n"
     ]
    }
   ],
   "source": [
    "train_metrics = count_metrics(model=model_20, sessions_list=train_sessions)"
   ]
  },
  {
   "cell_type": "code",
   "execution_count": 316,
   "metadata": {},
   "outputs": [
    {
     "name": "stderr",
     "output_type": "stream",
     "text": [
      "100%|██████████| 1000/1000 [00:12<00:00, 77.86it/s]\n"
     ]
    }
   ],
   "source": [
    "test_metrics = count_metrics(model=model_20, sessions_list=test_sessions)"
   ]
  },
  {
   "cell_type": "code",
   "execution_count": 317,
   "metadata": {
    "scrolled": false
   },
   "outputs": [
    {
     "data": {
      "text/plain": [
       "0.9038636835036806"
      ]
     },
     "execution_count": 317,
     "metadata": {},
     "output_type": "execute_result"
    }
   ],
   "source": [
    "test_metrics / train_metrics"
   ]
  },
  {
   "cell_type": "markdown",
   "metadata": {},
   "source": [
    "# 50"
   ]
  },
  {
   "cell_type": "code",
   "execution_count": 319,
   "metadata": {
    "scrolled": false
   },
   "outputs": [],
   "source": [
    "model_50 = Word2Vec(train_sessions, size=50, window=7, min_count=3)\n",
    "\n",
    "with tempfile.NamedTemporaryFile(prefix='gensim-model-', delete=False) as tmp:\n",
    "    temporary_filepath = tmp.name\n",
    "    model_50.save(temporary_filepath)"
   ]
  },
  {
   "cell_type": "code",
   "execution_count": 320,
   "metadata": {
    "scrolled": true
   },
   "outputs": [
    {
     "name": "stderr",
     "output_type": "stream",
     "text": [
      "100%|██████████| 1000/1000 [00:09<00:00, 108.41it/s]\n"
     ]
    }
   ],
   "source": [
    "train_metrics = count_metrics(model=model_50, sessions_list=train_sessions)"
   ]
  },
  {
   "cell_type": "code",
   "execution_count": 321,
   "metadata": {},
   "outputs": [
    {
     "name": "stderr",
     "output_type": "stream",
     "text": [
      "100%|██████████| 1000/1000 [00:05<00:00, 188.12it/s]\n"
     ]
    }
   ],
   "source": [
    "test_metrics = count_metrics(model=model_50, sessions_list=test_sessions)"
   ]
  },
  {
   "cell_type": "code",
   "execution_count": 322,
   "metadata": {
    "scrolled": false
   },
   "outputs": [
    {
     "data": {
      "text/plain": [
       "0.9154010214434529"
      ]
     },
     "execution_count": 322,
     "metadata": {},
     "output_type": "execute_result"
    }
   ],
   "source": [
    "test_metrics / train_metrics"
   ]
  },
  {
   "cell_type": "markdown",
   "metadata": {},
   "source": [
    "# 300"
   ]
  },
  {
   "cell_type": "code",
   "execution_count": 323,
   "metadata": {
    "scrolled": true
   },
   "outputs": [],
   "source": [
    "model_300 = Word2Vec(train_sessions, size=300, window=7, min_count=3)\n",
    "\n",
    "with tempfile.NamedTemporaryFile(prefix='gensim-model-', delete=False) as tmp:\n",
    "    temporary_filepath = tmp.name\n",
    "    model_300.save(temporary_filepath)"
   ]
  },
  {
   "cell_type": "code",
   "execution_count": 324,
   "metadata": {
    "scrolled": false
   },
   "outputs": [
    {
     "name": "stderr",
     "output_type": "stream",
     "text": [
      "100%|██████████| 1000/1000 [00:27<00:00, 36.01it/s]\n"
     ]
    }
   ],
   "source": [
    "train_metrics = count_metrics(model=model_300, sessions_list=train_sessions)"
   ]
  },
  {
   "cell_type": "code",
   "execution_count": 325,
   "metadata": {},
   "outputs": [
    {
     "name": "stderr",
     "output_type": "stream",
     "text": [
      "100%|██████████| 1000/1000 [00:26<00:00, 37.33it/s]\n"
     ]
    }
   ],
   "source": [
    "test_metrics = count_metrics(model=model_300, sessions_list=test_sessions)"
   ]
  },
  {
   "cell_type": "code",
   "execution_count": 326,
   "metadata": {
    "scrolled": false
   },
   "outputs": [
    {
     "data": {
      "text/plain": [
       "0.9016901345544646"
      ]
     },
     "execution_count": 326,
     "metadata": {},
     "output_type": "execute_result"
    }
   ],
   "source": [
    "test_metrics / train_metrics"
   ]
  },
  {
   "cell_type": "markdown",
   "metadata": {},
   "source": [
    "# Анализ результатов\n",
    "Как видно, на выбранной метрике выбранный анализ качества даёт примерно одинаковые результаты (около 90%). Это может означать одну из двух вещей: либо метрика была выбрана неверно, либо увеличение размерности пространства не даёт особого прироста в качестве. Далее мы попробуем найти размерность, ниже которой качество падает. "
   ]
  },
  {
   "cell_type": "markdown",
   "metadata": {},
   "source": [
    "# Продолжение\n",
    "\n",
    "## 10"
   ]
  },
  {
   "cell_type": "code",
   "execution_count": 329,
   "metadata": {
    "scrolled": true
   },
   "outputs": [],
   "source": [
    "model_10 = Word2Vec(train_sessions, size=10, window=7, min_count=3)\n",
    "\n",
    "with tempfile.NamedTemporaryFile(prefix='gensim-model-', delete=False) as tmp:\n",
    "    temporary_filepath = tmp.name\n",
    "    model_10.save(temporary_filepath)"
   ]
  },
  {
   "cell_type": "code",
   "execution_count": 330,
   "metadata": {
    "scrolled": false
   },
   "outputs": [
    {
     "name": "stderr",
     "output_type": "stream",
     "text": [
      "100%|██████████| 1000/1000 [00:04<00:00, 202.86it/s]\n"
     ]
    }
   ],
   "source": [
    "train_metrics = count_metrics(model=model_10, sessions_list=train_sessions)"
   ]
  },
  {
   "cell_type": "code",
   "execution_count": 331,
   "metadata": {},
   "outputs": [
    {
     "name": "stderr",
     "output_type": "stream",
     "text": [
      "100%|██████████| 1000/1000 [00:05<00:00, 183.49it/s]\n"
     ]
    }
   ],
   "source": [
    "test_metrics = count_metrics(model=model_10, sessions_list=test_sessions)"
   ]
  },
  {
   "cell_type": "code",
   "execution_count": 332,
   "metadata": {
    "scrolled": false
   },
   "outputs": [
    {
     "data": {
      "text/plain": [
       "0.8777444161184064"
      ]
     },
     "execution_count": 332,
     "metadata": {},
     "output_type": "execute_result"
    }
   ],
   "source": [
    "test_metrics / train_metrics"
   ]
  },
  {
   "cell_type": "markdown",
   "metadata": {},
   "source": [
    "## 5"
   ]
  },
  {
   "cell_type": "code",
   "execution_count": 341,
   "metadata": {
    "scrolled": true
   },
   "outputs": [],
   "source": [
    "model_5 = Word2Vec(train_sessions, size=5, window=7, min_count=3)\n",
    "\n",
    "with tempfile.NamedTemporaryFile(prefix='gensim-model-', delete=False) as tmp:\n",
    "    temporary_filepath = tmp.name\n",
    "    model_5.save(temporary_filepath)"
   ]
  },
  {
   "cell_type": "code",
   "execution_count": 342,
   "metadata": {
    "scrolled": false
   },
   "outputs": [
    {
     "name": "stderr",
     "output_type": "stream",
     "text": [
      "100%|██████████| 1000/1000 [00:05<00:00, 180.97it/s]\n"
     ]
    }
   ],
   "source": [
    "train_metrics = count_metrics(model=model_5, sessions_list=train_sessions)"
   ]
  },
  {
   "cell_type": "code",
   "execution_count": 343,
   "metadata": {},
   "outputs": [
    {
     "name": "stderr",
     "output_type": "stream",
     "text": [
      "100%|██████████| 1000/1000 [00:05<00:00, 167.80it/s]\n"
     ]
    }
   ],
   "source": [
    "test_metrics = count_metrics(model=model_5, sessions_list=test_sessions)"
   ]
  },
  {
   "cell_type": "code",
   "execution_count": 344,
   "metadata": {
    "scrolled": false
   },
   "outputs": [
    {
     "data": {
      "text/plain": [
       "0.9019749468438251"
      ]
     },
     "execution_count": 344,
     "metadata": {},
     "output_type": "execute_result"
    }
   ],
   "source": [
    "test_metrics / train_metrics"
   ]
  },
  {
   "cell_type": "markdown",
   "metadata": {},
   "source": [
    "## 3"
   ]
  },
  {
   "cell_type": "code",
   "execution_count": 337,
   "metadata": {
    "scrolled": true
   },
   "outputs": [],
   "source": [
    "model_3 = Word2Vec(train_sessions, size=3, window=7, min_count=3)\n",
    "\n",
    "with tempfile.NamedTemporaryFile(prefix='gensim-model-', delete=False) as tmp:\n",
    "    temporary_filepath = tmp.name\n",
    "    model_3.save(temporary_filepath)"
   ]
  },
  {
   "cell_type": "code",
   "execution_count": 338,
   "metadata": {
    "scrolled": false
   },
   "outputs": [
    {
     "name": "stderr",
     "output_type": "stream",
     "text": [
      "100%|██████████| 1000/1000 [00:13<00:00, 72.10it/s]\n"
     ]
    }
   ],
   "source": [
    "train_metrics = count_metrics(model=model_3, sessions_list=train_sessions)"
   ]
  },
  {
   "cell_type": "code",
   "execution_count": 339,
   "metadata": {},
   "outputs": [
    {
     "name": "stderr",
     "output_type": "stream",
     "text": [
      "100%|██████████| 1000/1000 [00:03<00:00, 258.51it/s]\n"
     ]
    }
   ],
   "source": [
    "test_metrics = count_metrics(model=model_3, sessions_list=test_sessions)"
   ]
  },
  {
   "cell_type": "code",
   "execution_count": 340,
   "metadata": {
    "scrolled": false
   },
   "outputs": [
    {
     "data": {
      "text/plain": [
       "0.9326022048553768"
      ]
     },
     "execution_count": 340,
     "metadata": {},
     "output_type": "execute_result"
    }
   ],
   "source": [
    "test_metrics / train_metrics"
   ]
  },
  {
   "cell_type": "markdown",
   "metadata": {},
   "source": [
    "# Другие гиперпараметры\n",
    "Как видно, при изменении размерности пространства метрика осталась примерно одинаковой. Возможно, на качество повлияет подбор других гиперпараметров. Поменяем параметр window, влияющий на размер \"окна\", через которое смотрят на сессии модель. "
   ]
  },
  {
   "cell_type": "markdown",
   "metadata": {},
   "source": [
    "# window = 3"
   ]
  },
  {
   "cell_type": "code",
   "execution_count": 345,
   "metadata": {
    "scrolled": true
   },
   "outputs": [],
   "source": [
    "model_100_3 = Word2Vec(train_sessions, size=100, window=3, min_count=3)"
   ]
  },
  {
   "cell_type": "code",
   "execution_count": 349,
   "metadata": {
    "scrolled": true
   },
   "outputs": [
    {
     "name": "stderr",
     "output_type": "stream",
     "text": [
      "100%|██████████| 1000/1000 [00:09<00:00, 109.48it/s]\n"
     ]
    }
   ],
   "source": [
    "train_metrics = count_metrics(model=model_100_3, sessions_list=train_sessions)"
   ]
  },
  {
   "cell_type": "code",
   "execution_count": 350,
   "metadata": {},
   "outputs": [
    {
     "name": "stderr",
     "output_type": "stream",
     "text": [
      "100%|██████████| 1000/1000 [00:10<00:00, 92.35it/s]\n"
     ]
    }
   ],
   "source": [
    "test_metrics = count_metrics(model=model_100_3, sessions_list=test_sessions)"
   ]
  },
  {
   "cell_type": "code",
   "execution_count": 351,
   "metadata": {
    "scrolled": false
   },
   "outputs": [
    {
     "data": {
      "text/plain": [
       "0.9054074694652682"
      ]
     },
     "execution_count": 351,
     "metadata": {},
     "output_type": "execute_result"
    }
   ],
   "source": [
    "test_metrics / train_metrics"
   ]
  },
  {
   "cell_type": "markdown",
   "metadata": {},
   "source": [
    "# window = 10"
   ]
  },
  {
   "cell_type": "code",
   "execution_count": 352,
   "metadata": {
    "scrolled": true
   },
   "outputs": [],
   "source": [
    "model_100_10 = Word2Vec(train_sessions, size=100, window=10, min_count=3)"
   ]
  },
  {
   "cell_type": "code",
   "execution_count": 353,
   "metadata": {
    "scrolled": true
   },
   "outputs": [
    {
     "name": "stderr",
     "output_type": "stream",
     "text": [
      "100%|██████████| 1000/1000 [00:16<00:00, 60.46it/s]\n"
     ]
    }
   ],
   "source": [
    "train_metrics = count_metrics(model=model_100_10, sessions_list=train_sessions)"
   ]
  },
  {
   "cell_type": "code",
   "execution_count": 354,
   "metadata": {},
   "outputs": [
    {
     "name": "stderr",
     "output_type": "stream",
     "text": [
      "100%|██████████| 1000/1000 [00:13<00:00, 72.43it/s]\n"
     ]
    }
   ],
   "source": [
    "test_metrics = count_metrics(model=model_100_10, sessions_list=test_sessions)"
   ]
  },
  {
   "cell_type": "code",
   "execution_count": 355,
   "metadata": {
    "scrolled": false
   },
   "outputs": [
    {
     "data": {
      "text/plain": [
       "0.9351611109243989"
      ]
     },
     "execution_count": 355,
     "metadata": {},
     "output_type": "execute_result"
    }
   ],
   "source": [
    "test_metrics / train_metrics"
   ]
  },
  {
   "cell_type": "markdown",
   "metadata": {},
   "source": [
    "## Способ обучения\n",
    "Попробуем поменять параметр sg. По умолчанию sg=0 - используется CBOW. Положим его равным sg=1, посмотрим, что поменяется. "
   ]
  },
  {
   "cell_type": "code",
   "execution_count": 356,
   "metadata": {
    "scrolled": false
   },
   "outputs": [],
   "source": [
    "model_100_sg = Word2Vec(train_sessions, size=100, window=7, min_count=3, sg=1)"
   ]
  },
  {
   "cell_type": "code",
   "execution_count": 357,
   "metadata": {
    "scrolled": true
   },
   "outputs": [
    {
     "name": "stderr",
     "output_type": "stream",
     "text": [
      "100%|██████████| 1000/1000 [00:16<00:00, 61.28it/s]\n"
     ]
    }
   ],
   "source": [
    "train_metrics = count_metrics(model=model_100_sg, sessions_list=train_sessions)"
   ]
  },
  {
   "cell_type": "code",
   "execution_count": 358,
   "metadata": {},
   "outputs": [
    {
     "name": "stderr",
     "output_type": "stream",
     "text": [
      "100%|██████████| 1000/1000 [00:12<00:00, 82.47it/s]\n"
     ]
    }
   ],
   "source": [
    "test_metrics = count_metrics(model=model_100_sg, sessions_list=test_sessions)"
   ]
  },
  {
   "cell_type": "code",
   "execution_count": 359,
   "metadata": {
    "scrolled": false
   },
   "outputs": [
    {
     "data": {
      "text/plain": [
       "0.8778270381225206"
      ]
     },
     "execution_count": 359,
     "metadata": {},
     "output_type": "execute_result"
    }
   ],
   "source": [
    "test_metrics / train_metrics"
   ]
  },
  {
   "cell_type": "markdown",
   "metadata": {},
   "source": [
    "# Узнать соседей\n",
    "Теперь узнаем соседей по названию музыкальной группы"
   ]
  },
  {
   "cell_type": "code",
   "execution_count": 185,
   "metadata": {},
   "outputs": [],
   "source": [
    "import csv, json\n",
    "from pathlib import Path\n",
    "file_sessions = Path('ThirtyMusic/relations/sessions.idomaar')\n",
    "file_tracks = Path('ThirtyMusic/entities/tracks.idomaar')\n",
    "file_persons = Path('ThirtyMusic/entities/persons.idomaar')"
   ]
  },
  {
   "cell_type": "code",
   "execution_count": 186,
   "metadata": {
    "scrolled": true
   },
   "outputs": [],
   "source": [
    "persons_dict_by_name = {}\n",
    "persons_dict_by_id = {}\n",
    "\n",
    "with open(file_persons, 'r') as f_persons:\n",
    "    csv_reader = csv.reader(f_persons, delimiter='\\t')\n",
    "    for person in csv_reader:\n",
    "        person_name = json.loads(person[3])['name']\n",
    "        person_id = person[1]\n",
    "        persons_dict_by_name[person_name] = person_id\n",
    "        persons_dict_by_id[person_id] = person_name"
   ]
  },
  {
   "cell_type": "code",
   "execution_count": 242,
   "metadata": {},
   "outputs": [],
   "source": [
    "from typing import Dict, Tuple, Union\n",
    "\n",
    "def get_similar_persons(person_name: str, \n",
    "                        neigh_num: int, \n",
    "                        persons_dict_by_name: Dict[str, str],\n",
    "                        persons_dict_by_id: Dict[str, str],\n",
    "                        model: Union[gensim.models.word2vec.Word2Vec, gensim.models.tfidfmodel.TfidfModel]) -> Tuple[str]:\n",
    "    '''\n",
    "    Функция для выведения списка похожих исполнителей. \n",
    "    \n",
    "    Params\n",
    "    person_name: Название исполнителя\n",
    "    neigh_num: Количество похожих групп\n",
    "    person_dict_by_name: Словарь исполнителей. Название : id\n",
    "    person_dict_by_id: Словарь исполнителей. id: название\n",
    "    model: \n",
    "    '''\n",
    "    try:\n",
    "        person_id = persons_dict_by_name[person_name]\n",
    "    except KeyError:\n",
    "        return 'No such persons! Please, try again'\n",
    "    try:\n",
    "        similars = model.wv.most_similar(person_id, topn=neigh_num)\n",
    "    except KeyError:\n",
    "        return 'Sorry, this person is not so popular. We have not found enough sessions with it'\n",
    "    return [persons_dict_by_id.get(person_id[0]) for person_id in similars]"
   ]
  },
  {
   "cell_type": "markdown",
   "metadata": {},
   "source": [
    "## Теперь найдём похожих исполнителей"
   ]
  },
  {
   "cell_type": "code",
   "execution_count": 243,
   "metadata": {
    "scrolled": true
   },
   "outputs": [
    {
     "data": {
      "text/plain": [
       "['Red+One',\n",
       " 'Red+Rack%27em',\n",
       " 'reddmammue',\n",
       " 'Red+Earth+Collective+meets+Soothsayers+Horns',\n",
       " 'Red+Red+Wine',\n",
       " 'Red+Roseland+Cornpickers',\n",
       " 'Redneck+Girlfriend',\n",
       " 'Red+City+Radio',\n",
       " 'Red+Planet',\n",
       " 'red+rogers',\n",
       " 'Redeemer+Knoxville+%5Bfeat+Cereus+Bright%5D',\n",
       " 'Redline+Graffiti',\n",
       " 'Redbone+(US)',\n",
       " 'Red+Herring',\n",
       " 'Red+Garrison+And+His+Zodiacs',\n",
       " 'Red+Lorry,+Yellow+Lorry',\n",
       " 'Red+Love',\n",
       " 'Red+London',\n",
       " 'Red+Orkestra',\n",
       " 'Red+Duce']"
      ]
     },
     "execution_count": 243,
     "metadata": {},
     "output_type": "execute_result"
    }
   ],
   "source": [
    "get_similar_persons('Red+Hot+Chili+Peppers%2F12', 20, persons_dict_by_name, persons_dict_by_id, model_100)"
   ]
  },
  {
   "cell_type": "code",
   "execution_count": 244,
   "metadata": {
    "scrolled": true
   },
   "outputs": [
    {
     "data": {
      "text/plain": [
       "'Sorry, this person is not so popular. We have not found enough sessions with it'"
      ]
     },
     "execution_count": 244,
     "metadata": {},
     "output_type": "execute_result"
    }
   ],
   "source": [
    "get_similar_persons('Alla+Pugacheva', 20, persons_dict_by_name, persons_dict_by_id, model_100)"
   ]
  },
  {
   "cell_type": "code",
   "execution_count": 245,
   "metadata": {
    "scrolled": true
   },
   "outputs": [
    {
     "data": {
      "text/plain": [
       "[None,\n",
       " None,\n",
       " None,\n",
       " None,\n",
       " None,\n",
       " None,\n",
       " None,\n",
       " 'Wale%2FCeeLo+Green',\n",
       " None,\n",
       " None,\n",
       " None,\n",
       " 'That%27s+All+She+Wrote',\n",
       " None,\n",
       " None,\n",
       " None,\n",
       " 'Ivor+&+The+Engines',\n",
       " None,\n",
       " 'Ari',\n",
       " None,\n",
       " None]"
      ]
     },
     "execution_count": 245,
     "metadata": {},
     "output_type": "execute_result"
    }
   ],
   "source": [
    "get_similar_persons('Lady+Gaga', 20, persons_dict_by_name, persons_dict_by_id, model_100)"
   ]
  },
  {
   "cell_type": "code",
   "execution_count": 234,
   "metadata": {},
   "outputs": [
    {
     "data": {
      "text/plain": [
       "True"
      ]
     },
     "execution_count": 234,
     "metadata": {},
     "output_type": "execute_result"
    }
   ],
   "source": [
    "'Lady+Gaga' in persons_dict_by_name.keys()"
   ]
  },
  {
   "cell_type": "code",
   "execution_count": 236,
   "metadata": {},
   "outputs": [
    {
     "data": {
      "text/plain": [
       "'191173'"
      ]
     },
     "execution_count": 236,
     "metadata": {},
     "output_type": "execute_result"
    }
   ],
   "source": [
    "persons_dict_by_name['Lady+Gaga']"
   ]
  },
  {
   "cell_type": "code",
   "execution_count": 241,
   "metadata": {
    "scrolled": true
   },
   "outputs": [
    {
     "data": {
      "text/plain": [
       "[None, None, None, None, None, None, None, 'Wale%2FCeeLo+Green', None, None]"
      ]
     },
     "execution_count": 241,
     "metadata": {},
     "output_type": "execute_result"
    }
   ],
   "source": [
    "[persons_dict_by_id.get(person_id[0]) for person_id in model_100.wv.most_similar('191173')]"
   ]
  },
  {
   "cell_type": "code",
   "execution_count": 240,
   "metadata": {},
   "outputs": [
    {
     "ename": "KeyError",
     "evalue": "'2801642'",
     "output_type": "error",
     "traceback": [
      "\u001b[0;31m---------------------------------------------------------------------------\u001b[0m",
      "\u001b[0;31mKeyError\u001b[0m                                  Traceback (most recent call last)",
      "\u001b[0;32m<ipython-input-240-3744335c8874>\u001b[0m in \u001b[0;36m<module>\u001b[0;34m\u001b[0m\n\u001b[0;32m----> 1\u001b[0;31m \u001b[0mpersons_dict_by_id\u001b[0m\u001b[0;34m[\u001b[0m\u001b[0;34m'2801642'\u001b[0m\u001b[0;34m]\u001b[0m\u001b[0;34m\u001b[0m\u001b[0;34m\u001b[0m\u001b[0m\n\u001b[0m",
      "\u001b[0;31mKeyError\u001b[0m: '2801642'"
     ]
    }
   ],
   "source": [
    "persons_dict_by_id['2801642']"
   ]
  },
  {
   "cell_type": "markdown",
   "metadata": {},
   "source": [
    "## Узнаем, насколько исполнители похожи"
   ]
  },
  {
   "cell_type": "code",
   "execution_count": 256,
   "metadata": {},
   "outputs": [],
   "source": [
    "def persons_similarity(person_name_1: str,\n",
    "                       person_name_2: str,\n",
    "                       persons_dict_by_name: Dict[str, str],\n",
    "                       persons_dict_by_id: Dict[str, str],\n",
    "                       model: Union[gensim.models.word2vec.Word2Vec, gensim.models.tfidfmodel.TfidfModel]) -> Tuple[str]:\n",
    "    '''\n",
    "    Функция для выведения похожести исполнителей. \n",
    "    \n",
    "    Чем больше, тем более похожи исполнители. \n",
    "    \n",
    "    Params\n",
    "    person_name_1, person_name_2: Название исполнителей\n",
    "    person_dict_by_name: Словарь исполнителей. Название : id\n",
    "    person_dict_by_id: Словарь исполнителей. id: название\n",
    "    model: \n",
    "    '''\n",
    "    try:\n",
    "        person_id_1 = persons_dict_by_name[person_name_1]\n",
    "        person_id_2 = persons_dict_by_name[person_name_2]\n",
    "    except KeyError:\n",
    "        return 'No such persons! Please, try again'\n",
    "    try:\n",
    "        return model.similarity(person_id_1, person_id_2)\n",
    "    except KeyError:\n",
    "        return 'Sorry, this person is not so popular. We have not found enough sessions with it'"
   ]
  },
  {
   "cell_type": "code",
   "execution_count": 257,
   "metadata": {},
   "outputs": [
    {
     "name": "stderr",
     "output_type": "stream",
     "text": [
      "/Users/mikhailgashkov/vk/.venv/lib/python3.7/site-packages/ipykernel_launcher.py:23: DeprecationWarning: Call to deprecated `similarity` (Method will be removed in 4.0.0, use self.wv.similarity() instead).\n"
     ]
    },
    {
     "data": {
      "text/plain": [
       "0.6504932"
      ]
     },
     "execution_count": 257,
     "metadata": {},
     "output_type": "execute_result"
    }
   ],
   "source": [
    "persons_similarity('Red+Hot+Chili+Peppers%2F12', 'Lady+Gaga', persons_dict_by_name, persons_dict_by_id, model_100)"
   ]
  },
  {
   "cell_type": "markdown",
   "metadata": {},
   "source": [
    "# Вместо вывода\n",
    "\n",
    "В данном блокноте была решена (или частично решена) задача поиска похожих исполнителей по данным сессиям прослушивания. Не буду ещё раз распространяться, что конкретно было сделано, но мой общий подход к решению был таков, что поиск похожих исполнителей основывается на поиске исполнителей, встречающихся в одинаковых контекстах. С этой точки зрения для поиска похожих исполнителей вполне подойдут контекстуальные эмбеддинги, которые разработаны для задачи анализа естественного языка. \n",
    "\n",
    "Спасибо за предоставленную интересную задачу, к сожалению, не всё получилось гладко, но всё же были найдены некоторые похожие исполнители. Для дальнейшего решения данной задачи, как мне кажется, необходимо провести ревизию исполнителей. В данном варианте огромное количество исполнителей повторяются в датасете: они могут записывать как свои сольные работы, так и совместные треки с другими исполнителями, что считается уже отдельным исполнителем. Посмотрев на структуру информации об исполнителях в файле \"persons.idomaar\", я понял, что быстро эту задачу решить не удастся, а потому не стал её решать. "
   ]
  }
 ],
 "metadata": {
  "kernelspec": {
   "display_name": "Python 3",
   "language": "python",
   "name": "python3"
  },
  "language_info": {
   "codemirror_mode": {
    "name": "ipython",
    "version": 3
   },
   "file_extension": ".py",
   "mimetype": "text/x-python",
   "name": "python",
   "nbconvert_exporter": "python",
   "pygments_lexer": "ipython3",
   "version": "3.7.7"
  }
 },
 "nbformat": 4,
 "nbformat_minor": 4
}
